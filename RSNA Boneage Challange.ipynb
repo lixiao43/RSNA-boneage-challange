{
 "cells": [
  {
   "cell_type": "markdown",
   "metadata": {},
   "source": [
    "# RSNA Bone Age Challenge"
   ]
  },
  {
   "cell_type": "code",
   "execution_count": 1,
   "metadata": {},
   "outputs": [
    {
     "name": "stderr",
     "output_type": "stream",
     "text": [
      "Using TensorFlow backend.\n"
     ]
    }
   ],
   "source": [
    "# import all libraries\n",
    "import sys\n",
    "import random\n",
    "import pandas as pd\n",
    "import numpy as np\n",
    "import cv2\n",
    "\n",
    "from os import listdir\n",
    "from keras.models import Sequential\n",
    "from keras.preprocessing.image import ImageDataGenerator\n",
    "from keras.layers import Conv2D, MaxPooling2D, Dense, Dropout, Flatten\n",
    "from keras.callbacks import ModelCheckpoint, ReduceLROnPlateau\n",
    "from keras.optimizers import Adam\n",
    "\n",
    "## extra imports to set GPU options\n",
    "import tensorflow as tf\n",
    "from keras import backend as K\n",
    "\n",
    "###################################\n",
    "# TensorFlow wizardry\n",
    "config = tf.ConfigProto()\n",
    " \n",
    "# Don't pre-allocate memory; allocate as-needed\n",
    "config.gpu_options.allow_growth = True\n",
    " \n",
    "# Only allow a total of half the GPU memory to be allocated\n",
    "config.gpu_options.per_process_gpu_memory_fraction = 0.5\n",
    " \n",
    "# Create a session with the above options specified.\n",
    "K.tensorflow_backend.set_session(tf.Session(config=config))\n",
    "###################################\n",
    "\n",
    "# dimensions of our images\n",
    "img_width, img_height = 224, 224\n",
    "\n",
    "# set input shape for differnt backens\n",
    "if K.image_data_format() == 'channels_first':\n",
    "    input_shape = (3, img_width, img_height)\n",
    "else:\n",
    "    input_shape = (img_width, img_height, 3)"
   ]
  },
  {
   "cell_type": "markdown",
   "metadata": {},
   "source": [
    "## Read data"
   ]
  },
  {
   "cell_type": "markdown",
   "metadata": {},
   "source": [
    "### Read input images from the directory into pandas"
   ]
  },
  {
   "cell_type": "code",
   "execution_count": 2,
   "metadata": {},
   "outputs": [
    {
     "data": {
      "text/html": [
       "<div>\n",
       "<style>\n",
       "    .dataframe thead tr:only-child th {\n",
       "        text-align: right;\n",
       "    }\n",
       "\n",
       "    .dataframe thead th {\n",
       "        text-align: left;\n",
       "    }\n",
       "\n",
       "    .dataframe tbody tr th {\n",
       "        vertical-align: top;\n",
       "    }\n",
       "</style>\n",
       "<table border=\"1\" class=\"dataframe\">\n",
       "  <thead>\n",
       "    <tr style=\"text-align: right;\">\n",
       "      <th></th>\n",
       "      <th>id</th>\n",
       "      <th>image</th>\n",
       "    </tr>\n",
       "  </thead>\n",
       "  <tbody>\n",
       "    <tr>\n",
       "      <th>0</th>\n",
       "      <td>1616</td>\n",
       "      <td>[[[6.0, 6.0, 6.0], [6.0, 6.0, 6.0], [6.0, 6.0,...</td>\n",
       "    </tr>\n",
       "    <tr>\n",
       "      <th>1</th>\n",
       "      <td>9119</td>\n",
       "      <td>[[[0.0, 0.0, 0.0], [0.0, 0.0, 0.0], [0.0, 0.0,...</td>\n",
       "    </tr>\n",
       "    <tr>\n",
       "      <th>2</th>\n",
       "      <td>12438</td>\n",
       "      <td>[[[13.0, 13.0, 13.0], [10.0, 10.0, 10.0], [10....</td>\n",
       "    </tr>\n",
       "    <tr>\n",
       "      <th>3</th>\n",
       "      <td>9834</td>\n",
       "      <td>[[[13.0, 13.0, 13.0], [13.0, 13.0, 13.0], [14....</td>\n",
       "    </tr>\n",
       "    <tr>\n",
       "      <th>4</th>\n",
       "      <td>13915</td>\n",
       "      <td>[[[255.0, 255.0, 255.0], [255.0, 255.0, 255.0]...</td>\n",
       "    </tr>\n",
       "  </tbody>\n",
       "</table>\n",
       "</div>"
      ],
      "text/plain": [
       "      id                                              image\n",
       "0   1616  [[[6.0, 6.0, 6.0], [6.0, 6.0, 6.0], [6.0, 6.0,...\n",
       "1   9119  [[[0.0, 0.0, 0.0], [0.0, 0.0, 0.0], [0.0, 0.0,...\n",
       "2  12438  [[[13.0, 13.0, 13.0], [10.0, 10.0, 10.0], [10....\n",
       "3   9834  [[[13.0, 13.0, 13.0], [13.0, 13.0, 13.0], [14....\n",
       "4  13915  [[[255.0, 255.0, 255.0], [255.0, 255.0, 255.0]..."
      ]
     },
     "execution_count": 2,
     "metadata": {},
     "output_type": "execute_result"
    }
   ],
   "source": [
    "# Total num of images to be read\n",
    "num_imgs = 2000\n",
    "\n",
    "# Path to images\n",
    "path_to_images = \"../../dataset/bone_age/resized/\"\n",
    "\n",
    "img_files = []\n",
    "\n",
    "images_dataFrame = pd.DataFrame(columns=['id', 'image'])\n",
    "\n",
    "# Randomly select files to read\n",
    "# for i in range(num_imgs):\n",
    "#     img_files.append(random.choice([x for x in listdir(path_to_images)]))\n",
    "\n",
    "img_files =  listdir(path_to_images)\n",
    "\n",
    "# Read images\n",
    "count = 0\n",
    "for img_file in img_files[:num_imgs]:\n",
    "    name = img_file.split('.')[0]\n",
    "    try:\n",
    "        img = cv2.imread(path_to_images + img_file)#, cv2.COLOR_BGR2GRAY)\n",
    "        img = np.array(img, dtype='float32')\n",
    "        images_dataFrame.loc[count] = [name, img]\n",
    "        count += 1\n",
    "    except(IOError, OSError):\n",
    "        print('error')\n",
    "        pass\n",
    "images_dataFrame.head()"
   ]
  },
  {
   "cell_type": "markdown",
   "metadata": {},
   "source": [
    "### Read image annotations form csv file into pandas"
   ]
  },
  {
   "cell_type": "code",
   "execution_count": 3,
   "metadata": {},
   "outputs": [
    {
     "data": {
      "text/html": [
       "<div>\n",
       "<style>\n",
       "    .dataframe thead tr:only-child th {\n",
       "        text-align: right;\n",
       "    }\n",
       "\n",
       "    .dataframe thead th {\n",
       "        text-align: left;\n",
       "    }\n",
       "\n",
       "    .dataframe tbody tr th {\n",
       "        vertical-align: top;\n",
       "    }\n",
       "</style>\n",
       "<table border=\"1\" class=\"dataframe\">\n",
       "  <thead>\n",
       "    <tr style=\"text-align: right;\">\n",
       "      <th></th>\n",
       "      <th>id</th>\n",
       "      <th>boneage</th>\n",
       "      <th>male</th>\n",
       "    </tr>\n",
       "  </thead>\n",
       "  <tbody>\n",
       "    <tr>\n",
       "      <th>0</th>\n",
       "      <td>1616</td>\n",
       "      <td>48</td>\n",
       "      <td>True</td>\n",
       "    </tr>\n",
       "    <tr>\n",
       "      <th>1</th>\n",
       "      <td>9119</td>\n",
       "      <td>156</td>\n",
       "      <td>False</td>\n",
       "    </tr>\n",
       "    <tr>\n",
       "      <th>2</th>\n",
       "      <td>12438</td>\n",
       "      <td>106</td>\n",
       "      <td>False</td>\n",
       "    </tr>\n",
       "    <tr>\n",
       "      <th>3</th>\n",
       "      <td>9834</td>\n",
       "      <td>100</td>\n",
       "      <td>False</td>\n",
       "    </tr>\n",
       "    <tr>\n",
       "      <th>4</th>\n",
       "      <td>13915</td>\n",
       "      <td>120</td>\n",
       "      <td>False</td>\n",
       "    </tr>\n",
       "  </tbody>\n",
       "</table>\n",
       "</div>"
      ],
      "text/plain": [
       "      id  boneage   male\n",
       "0   1616       48   True\n",
       "1   9119      156  False\n",
       "2  12438      106  False\n",
       "3   9834      100  False\n",
       "4  13915      120  False"
      ]
     },
     "execution_count": 3,
     "metadata": {},
     "output_type": "execute_result"
    }
   ],
   "source": [
    "path_to_csv = \"../../dataset/bone_age/ntrain.csv\"\n",
    "\n",
    "annotations_dataFrame = pd.read_csv(path_to_csv)\n",
    "loaded_imgsDataFrame = pd.DataFrame()\n",
    "\n",
    "for img in img_files:\n",
    "    img_id = int(img.split('.')[0])\n",
    "    loaded_imgsDataFrame = loaded_imgsDataFrame.append(annotations_dataFrame.loc[annotations_dataFrame['id'] == img_id], ignore_index=True)\n",
    "loaded_imgsDataFrame.head()"
   ]
  },
  {
   "cell_type": "markdown",
   "metadata": {},
   "source": [
    "### Combine image and annotation dataframes and split to training and testing sets"
   ]
  },
  {
   "cell_type": "code",
   "execution_count": 4,
   "metadata": {},
   "outputs": [
    {
     "data": {
      "text/html": [
       "<div>\n",
       "<style>\n",
       "    .dataframe thead tr:only-child th {\n",
       "        text-align: right;\n",
       "    }\n",
       "\n",
       "    .dataframe thead th {\n",
       "        text-align: left;\n",
       "    }\n",
       "\n",
       "    .dataframe tbody tr th {\n",
       "        vertical-align: top;\n",
       "    }\n",
       "</style>\n",
       "<table border=\"1\" class=\"dataframe\">\n",
       "  <thead>\n",
       "    <tr style=\"text-align: right;\">\n",
       "      <th></th>\n",
       "      <th>id_x</th>\n",
       "      <th>boneage</th>\n",
       "      <th>male</th>\n",
       "      <th>id_y</th>\n",
       "      <th>image</th>\n",
       "    </tr>\n",
       "  </thead>\n",
       "  <tbody>\n",
       "    <tr>\n",
       "      <th>0</th>\n",
       "      <td>1616</td>\n",
       "      <td>48</td>\n",
       "      <td>True</td>\n",
       "      <td>1616</td>\n",
       "      <td>[[[6.0, 6.0, 6.0], [6.0, 6.0, 6.0], [6.0, 6.0,...</td>\n",
       "    </tr>\n",
       "    <tr>\n",
       "      <th>1</th>\n",
       "      <td>9119</td>\n",
       "      <td>156</td>\n",
       "      <td>False</td>\n",
       "      <td>9119</td>\n",
       "      <td>[[[0.0, 0.0, 0.0], [0.0, 0.0, 0.0], [0.0, 0.0,...</td>\n",
       "    </tr>\n",
       "    <tr>\n",
       "      <th>2</th>\n",
       "      <td>12438</td>\n",
       "      <td>106</td>\n",
       "      <td>False</td>\n",
       "      <td>12438</td>\n",
       "      <td>[[[13.0, 13.0, 13.0], [10.0, 10.0, 10.0], [10....</td>\n",
       "    </tr>\n",
       "    <tr>\n",
       "      <th>3</th>\n",
       "      <td>9834</td>\n",
       "      <td>100</td>\n",
       "      <td>False</td>\n",
       "      <td>9834</td>\n",
       "      <td>[[[13.0, 13.0, 13.0], [13.0, 13.0, 13.0], [14....</td>\n",
       "    </tr>\n",
       "    <tr>\n",
       "      <th>4</th>\n",
       "      <td>13915</td>\n",
       "      <td>120</td>\n",
       "      <td>False</td>\n",
       "      <td>13915</td>\n",
       "      <td>[[[255.0, 255.0, 255.0], [255.0, 255.0, 255.0]...</td>\n",
       "    </tr>\n",
       "  </tbody>\n",
       "</table>\n",
       "</div>"
      ],
      "text/plain": [
       "    id_x  boneage   male   id_y  \\\n",
       "0   1616       48   True   1616   \n",
       "1   9119      156  False   9119   \n",
       "2  12438      106  False  12438   \n",
       "3   9834      100  False   9834   \n",
       "4  13915      120  False  13915   \n",
       "\n",
       "                                               image  \n",
       "0  [[[6.0, 6.0, 6.0], [6.0, 6.0, 6.0], [6.0, 6.0,...  \n",
       "1  [[[0.0, 0.0, 0.0], [0.0, 0.0, 0.0], [0.0, 0.0,...  \n",
       "2  [[[13.0, 13.0, 13.0], [10.0, 10.0, 10.0], [10....  \n",
       "3  [[[13.0, 13.0, 13.0], [13.0, 13.0, 13.0], [14....  \n",
       "4  [[[255.0, 255.0, 255.0], [255.0, 255.0, 255.0]...  "
      ]
     },
     "execution_count": 4,
     "metadata": {},
     "output_type": "execute_result"
    }
   ],
   "source": [
    "input_dataFrame = pd.merge(loaded_imgsDataFrame, images_dataFrame, right_index=True, left_index=True)\n",
    "input_dataFrame.head()"
   ]
  },
  {
   "cell_type": "code",
   "execution_count": 5,
   "metadata": {},
   "outputs": [
    {
     "data": {
      "text/html": [
       "<div>\n",
       "<style>\n",
       "    .dataframe thead tr:only-child th {\n",
       "        text-align: right;\n",
       "    }\n",
       "\n",
       "    .dataframe thead th {\n",
       "        text-align: left;\n",
       "    }\n",
       "\n",
       "    .dataframe tbody tr th {\n",
       "        vertical-align: top;\n",
       "    }\n",
       "</style>\n",
       "<table border=\"1\" class=\"dataframe\">\n",
       "  <thead>\n",
       "    <tr style=\"text-align: right;\">\n",
       "      <th></th>\n",
       "      <th>boneage</th>\n",
       "      <th>male</th>\n",
       "      <th>image</th>\n",
       "    </tr>\n",
       "  </thead>\n",
       "  <tbody>\n",
       "    <tr>\n",
       "      <th>0</th>\n",
       "      <td>48</td>\n",
       "      <td>True</td>\n",
       "      <td>[[[6.0, 6.0, 6.0], [6.0, 6.0, 6.0], [6.0, 6.0,...</td>\n",
       "    </tr>\n",
       "    <tr>\n",
       "      <th>1</th>\n",
       "      <td>156</td>\n",
       "      <td>False</td>\n",
       "      <td>[[[0.0, 0.0, 0.0], [0.0, 0.0, 0.0], [0.0, 0.0,...</td>\n",
       "    </tr>\n",
       "    <tr>\n",
       "      <th>2</th>\n",
       "      <td>106</td>\n",
       "      <td>False</td>\n",
       "      <td>[[[13.0, 13.0, 13.0], [10.0, 10.0, 10.0], [10....</td>\n",
       "    </tr>\n",
       "    <tr>\n",
       "      <th>3</th>\n",
       "      <td>100</td>\n",
       "      <td>False</td>\n",
       "      <td>[[[13.0, 13.0, 13.0], [13.0, 13.0, 13.0], [14....</td>\n",
       "    </tr>\n",
       "    <tr>\n",
       "      <th>4</th>\n",
       "      <td>120</td>\n",
       "      <td>False</td>\n",
       "      <td>[[[255.0, 255.0, 255.0], [255.0, 255.0, 255.0]...</td>\n",
       "    </tr>\n",
       "  </tbody>\n",
       "</table>\n",
       "</div>"
      ],
      "text/plain": [
       "   boneage   male                                              image\n",
       "0       48   True  [[[6.0, 6.0, 6.0], [6.0, 6.0, 6.0], [6.0, 6.0,...\n",
       "1      156  False  [[[0.0, 0.0, 0.0], [0.0, 0.0, 0.0], [0.0, 0.0,...\n",
       "2      106  False  [[[13.0, 13.0, 13.0], [10.0, 10.0, 10.0], [10....\n",
       "3      100  False  [[[13.0, 13.0, 13.0], [13.0, 13.0, 13.0], [14....\n",
       "4      120  False  [[[255.0, 255.0, 255.0], [255.0, 255.0, 255.0]..."
      ]
     },
     "execution_count": 5,
     "metadata": {},
     "output_type": "execute_result"
    }
   ],
   "source": [
    "input_dataFrame.drop('id_x', axis=1, inplace=True) # drop id_x column\n",
    "input_dataFrame.drop('id_y', axis=1, inplace=True) # drop id_y column\n",
    "input_dataFrame.head()"
   ]
  },
  {
   "cell_type": "markdown",
   "metadata": {},
   "source": [
    "## Prepare Data"
   ]
  },
  {
   "cell_type": "markdown",
   "metadata": {},
   "source": [
    "### Conver  gender to string"
   ]
  },
  {
   "cell_type": "code",
   "execution_count": 6,
   "metadata": {},
   "outputs": [
    {
     "data": {
      "text/html": [
       "<div>\n",
       "<style>\n",
       "    .dataframe thead tr:only-child th {\n",
       "        text-align: right;\n",
       "    }\n",
       "\n",
       "    .dataframe thead th {\n",
       "        text-align: left;\n",
       "    }\n",
       "\n",
       "    .dataframe tbody tr th {\n",
       "        vertical-align: top;\n",
       "    }\n",
       "</style>\n",
       "<table border=\"1\" class=\"dataframe\">\n",
       "  <thead>\n",
       "    <tr style=\"text-align: right;\">\n",
       "      <th></th>\n",
       "      <th>boneage</th>\n",
       "      <th>gender</th>\n",
       "      <th>image</th>\n",
       "    </tr>\n",
       "  </thead>\n",
       "  <tbody>\n",
       "    <tr>\n",
       "      <th>0</th>\n",
       "      <td>48</td>\n",
       "      <td>1</td>\n",
       "      <td>[[[6.0, 6.0, 6.0], [6.0, 6.0, 6.0], [6.0, 6.0,...</td>\n",
       "    </tr>\n",
       "    <tr>\n",
       "      <th>1</th>\n",
       "      <td>156</td>\n",
       "      <td>0</td>\n",
       "      <td>[[[0.0, 0.0, 0.0], [0.0, 0.0, 0.0], [0.0, 0.0,...</td>\n",
       "    </tr>\n",
       "    <tr>\n",
       "      <th>2</th>\n",
       "      <td>106</td>\n",
       "      <td>0</td>\n",
       "      <td>[[[13.0, 13.0, 13.0], [10.0, 10.0, 10.0], [10....</td>\n",
       "    </tr>\n",
       "    <tr>\n",
       "      <th>3</th>\n",
       "      <td>100</td>\n",
       "      <td>0</td>\n",
       "      <td>[[[13.0, 13.0, 13.0], [13.0, 13.0, 13.0], [14....</td>\n",
       "    </tr>\n",
       "    <tr>\n",
       "      <th>4</th>\n",
       "      <td>120</td>\n",
       "      <td>0</td>\n",
       "      <td>[[[255.0, 255.0, 255.0], [255.0, 255.0, 255.0]...</td>\n",
       "    </tr>\n",
       "  </tbody>\n",
       "</table>\n",
       "</div>"
      ],
      "text/plain": [
       "   boneage  gender                                              image\n",
       "0       48       1  [[[6.0, 6.0, 6.0], [6.0, 6.0, 6.0], [6.0, 6.0,...\n",
       "1      156       0  [[[0.0, 0.0, 0.0], [0.0, 0.0, 0.0], [0.0, 0.0,...\n",
       "2      106       0  [[[13.0, 13.0, 13.0], [10.0, 10.0, 10.0], [10....\n",
       "3      100       0  [[[13.0, 13.0, 13.0], [13.0, 13.0, 13.0], [14....\n",
       "4      120       0  [[[255.0, 255.0, 255.0], [255.0, 255.0, 255.0]..."
      ]
     },
     "execution_count": 6,
     "metadata": {},
     "output_type": "execute_result"
    }
   ],
   "source": [
    "# Rename Male to Gender\n",
    "# Female i.e. False is repalces by 1\n",
    "# Male i.e. True is replaced by 0\n",
    "input_dataFrame.rename(columns={'male':'gender'}, inplace=True)\n",
    "input_dataFrame['gender'].replace(True, '1', inplace=True)\n",
    "input_dataFrame['gender'].replace(False, '0', inplace=True)\n",
    "input_dataFrame['gender'] = input_dataFrame['gender'].apply(pd.to_numeric)\n",
    "input_dataFrame.head()"
   ]
  },
  {
   "cell_type": "markdown",
   "metadata": {},
   "source": [
    "### Data augmentation"
   ]
  },
  {
   "cell_type": "code",
   "execution_count": 7,
   "metadata": {
    "collapsed": true
   },
   "outputs": [],
   "source": [
    "# input_data = input_dataFrame.values\n",
    "# image_data = input_dataFrame[\"image\"].values\n",
    "gender_data = input_dataFrame[\"gender\"].values\n",
    "age_data = input_dataFrame[\"boneage\"].values\n",
    "\n",
    "ls = []\n",
    "for i, x in input_dataFrame.iterrows():\n",
    "    ls.append(input_dataFrame.loc[i, 'image'])\n",
    "    \n",
    "image_data = np.array(ls, dtype='float32')\n",
    "\n",
    "batch_size = 5\n",
    "\n",
    "train_data_gen = ImageDataGenerator(\n",
    "    rescale = 1./255\n",
    "#     rotation_range=20,\n",
    "#     width_shift_range=0.2,\n",
    "#     height_shift_range=0.2,\n",
    "#     zoom_range=0.2,\n",
    "#     horizontal_flip=True\n",
    ")\n",
    "\n",
    "val_data_gen = ImageDataGenerator(\n",
    "    rescale = 1./255\n",
    "#     width_shift_range=0.25,\n",
    "#     height_shift_range=0.25,\n",
    "#     horizontal_flip = True\n",
    ")\n",
    "\n",
    "def gen_train_two_inputs(x, y, z):\n",
    "    X1 = train_data_gen.flow(x, y, batch_size=batch_size, seed=2)\n",
    "    X2 = train_data_gen.flow(x, z, batch_size=batch_size, seed=2)\n",
    "    while True:\n",
    "        X1i = X1.next()\n",
    "        X2i = X2.next()\n",
    "        yield [X1i[0], X1i[1]], X2i[1]\n",
    "        \n",
    "def gen_val_two_inputs(x, y, z):\n",
    "    X1 = val_data_gen.flow(x, y, batch_size=batch_size, seed=2)\n",
    "    X2 = val_data_gen.flow(x, z, batch_size=batch_size, seed=2)\n",
    "    while True:\n",
    "        X1i = X1.next()\n",
    "        X2i = X2.next()\n",
    "        yield [X1i[0], X1i[1]], X2i[1]"
   ]
  },
  {
   "cell_type": "markdown",
   "metadata": {},
   "source": [
    "### Split training and validation"
   ]
  },
  {
   "cell_type": "code",
   "execution_count": 8,
   "metadata": {
    "collapsed": true
   },
   "outputs": [],
   "source": [
    "training_size = int(.85 * num_imgs)\n",
    "train_gen_flow = gen_train_two_inputs(image_data[training_size:], gender_data[training_size:], age_data[training_size:])\n",
    "val_gen_flow = gen_val_two_inputs(image_data[:training_size], gender_data[:training_size], age_data[:training_size])"
   ]
  },
  {
   "cell_type": "markdown",
   "metadata": {},
   "source": [
    "## The Model"
   ]
  },
  {
   "cell_type": "markdown",
   "metadata": {},
   "source": [
    "### Model"
   ]
  },
  {
   "cell_type": "code",
   "execution_count": 9,
   "metadata": {
    "collapsed": true
   },
   "outputs": [],
   "source": [
    "### Pretrained model\n",
    "from keras.applications.vgg16 import VGG16\n",
    "from keras.models import Model\n",
    "import keras\n",
    "from keras.models import Model\n",
    "from keras.models import Input\n",
    "\n",
    "base_model = VGG16(input_shape=input_shape, weights='imagenet', include_top=False)\n",
    "for layer in base_model.layers:\n",
    "    layer.trainable = False\n",
    "\n",
    "pixel_branch = base_model.output\n",
    "pixel_branch = Flatten()(pixel_branch)\n",
    "\n",
    "new_model = Model(inputs=base_model.input, outputs=pixel_branch)\n",
    "\n",
    "text_branch = Sequential()\n",
    "text_branch.add(Dense(32, input_shape=(1,), activation='relu'))\n",
    "\n",
    "# merged = Merge([new_model, text_branch], mode='concat')\n",
    "merged = keras.layers.concatenate([new_model.output, text_branch.output])\n",
    "\n",
    "age = Dense(1000, activation='relu')(merged)\n",
    "age = Dense(1000, activation='relu')(age)\n",
    "age = Dense(1)(age)\n",
    "\n",
    "# show model\n",
    "# model.summary()\n",
    "model = Model(inputs=[base_model.input, text_branch.input], outputs=age)"
   ]
  },
  {
   "cell_type": "code",
   "execution_count": 10,
   "metadata": {
    "collapsed": true
   },
   "outputs": [],
   "source": [
    "# compile mode\n",
    "optimizer = Adam(lr=0.001, beta_1=0.9, beta_2=0.999, epsilon=1e-08, decay=0.0) \n",
    "model.compile(loss='mean_absolute_error', optimizer=optimizer, metrics=['accuracy'])"
   ]
  },
  {
   "cell_type": "code",
   "execution_count": 11,
   "metadata": {
    "collapsed": true
   },
   "outputs": [],
   "source": [
    "# Call backs\n",
    "save_best = ModelCheckpoint('weights.{epoch:02d}-{val_loss:.2f}.hdf5', monitor='val_loss', verbose=1, save_best_only=True, mode='auto', period=1)\n",
    "reduceLROnPlat = ReduceLROnPlateau(monitor='val_loss', factor=0.8, patience=3, verbose=1, mode='auto', epsilon=0.0001, cooldown=5, min_lr=0.0001) "
   ]
  },
  {
   "cell_type": "code",
   "execution_count": 12,
   "metadata": {},
   "outputs": [
    {
     "name": "stdout",
     "output_type": "stream",
     "text": [
      "Epoch 1/50\n",
      "339/340 [============================>.] - ETA: 0s - loss: 30.0336 - acc: 0.0112Epoch 00001: val_loss improved from inf to 23.30954, saving model to weights.01-23.31.hdf5\n",
      "340/340 [==============================] - 98s 289ms/step - loss: 29.9679 - acc: 0.0112 - val_loss: 23.3095 - val_acc: 0.0133\n",
      "Epoch 2/50\n",
      "339/340 [============================>.] - ETA: 0s - loss: 17.8444 - acc: 0.0165Epoch 00002: val_loss did not improve\n",
      "340/340 [==============================] - 95s 281ms/step - loss: 17.9118 - acc: 0.0165 - val_loss: 25.7636 - val_acc: 0.0033\n",
      "Epoch 3/50\n",
      "339/340 [============================>.] - ETA: 0s - loss: 13.4537 - acc: 0.0212Epoch 00003: val_loss did not improve\n",
      "340/340 [==============================] - 96s 283ms/step - loss: 13.4691 - acc: 0.0212 - val_loss: 23.8137 - val_acc: 0.0067\n",
      "Epoch 4/50\n",
      "339/340 [============================>.] - ETA: 0s - loss: 11.8137 - acc: 0.0372Epoch 00004: val_loss improved from 23.30954 to 21.71967, saving model to weights.04-21.72.hdf5\n",
      "340/340 [==============================] - 97s 284ms/step - loss: 11.8141 - acc: 0.0371 - val_loss: 21.7197 - val_acc: 0.0333\n",
      "Epoch 5/50\n",
      "339/340 [============================>.] - ETA: 0s - loss: 9.6921 - acc: 0.0354Epoch 00005: val_loss did not improve\n",
      "340/340 [==============================] - 96s 282ms/step - loss: 9.6812 - acc: 0.0353 - val_loss: 22.6171 - val_acc: 0.0100\n",
      "Epoch 6/50\n",
      "339/340 [============================>.] - ETA: 0s - loss: 7.1878 - acc: 0.0590Epoch 00006: val_loss improved from 21.71967 to 20.18997, saving model to weights.06-20.19.hdf5\n",
      "340/340 [==============================] - 96s 281ms/step - loss: 7.1805 - acc: 0.0594 - val_loss: 20.1900 - val_acc: 0.0100\n",
      "Epoch 7/50\n",
      "339/340 [============================>.] - ETA: 0s - loss: 7.3474 - acc: 0.0513Epoch 00007: val_loss did not improve\n",
      "340/340 [==============================] - 95s 281ms/step - loss: 7.3422 - acc: 0.0512 - val_loss: 22.5483 - val_acc: 0.0133\n",
      "Epoch 8/50\n",
      "339/340 [============================>.] - ETA: 0s - loss: 6.5524 - acc: 0.0614Epoch 00008: val_loss did not improve\n",
      "340/340 [==============================] - 97s 285ms/step - loss: 6.5567 - acc: 0.0612 - val_loss: 21.5085 - val_acc: 0.0067\n",
      "Epoch 9/50\n",
      "339/340 [============================>.] - ETA: 0s - loss: 6.4618 - acc: 0.0549Epoch 00009: val_loss did not improve\n",
      "340/340 [==============================] - 95s 281ms/step - loss: 6.4864 - acc: 0.0547 - val_loss: 22.1163 - val_acc: 0.0200\n",
      "Epoch 10/50\n",
      "339/340 [============================>.] - ETA: 0s - loss: 5.4301 - acc: 0.0649Epoch 00010: val_loss did not improve\n",
      "340/340 [==============================] - 96s 281ms/step - loss: 5.4357 - acc: 0.0647 - val_loss: 22.3875 - val_acc: 0.0067\n",
      "Epoch 11/50\n",
      "339/340 [============================>.] - ETA: 0s - loss: 6.5100 - acc: 0.0602Epoch 00011: val_loss did not improve\n",
      "340/340 [==============================] - 95s 281ms/step - loss: 6.5148 - acc: 0.0600 - val_loss: 22.2536 - val_acc: 0.0200\n",
      "Epoch 12/50\n",
      "339/340 [============================>.] - ETA: 0s - loss: 5.2643 - acc: 0.0761Epoch 00012: val_loss did not improve\n",
      "340/340 [==============================] - 95s 279ms/step - loss: 5.2581 - acc: 0.0771 - val_loss: 20.7142 - val_acc: 0.0133\n",
      "Epoch 13/50\n",
      "339/340 [============================>.] - ETA: 0s - loss: 6.2693 - acc: 0.0478Epoch 00013: val_loss did not improve\n",
      "340/340 [==============================] - 95s 280ms/step - loss: 6.2610 - acc: 0.0482 - val_loss: 20.4191 - val_acc: 0.0133\n",
      "Epoch 14/50\n",
      "339/340 [============================>.] - ETA: 0s - loss: 5.5610 - acc: 0.0637Epoch 00014: val_loss did not improve\n",
      "340/340 [==============================] - 97s 286ms/step - loss: 5.5501 - acc: 0.0647 - val_loss: 22.5937 - val_acc: 0.0100\n",
      "Epoch 15/50\n",
      "339/340 [============================>.] - ETA: 0s - loss: 5.7639 - acc: 0.0578Epoch 00015: val_loss did not improve\n",
      "340/340 [==============================] - 100s 294ms/step - loss: 5.7547 - acc: 0.0576 - val_loss: 21.8248 - val_acc: 0.0100\n",
      "Epoch 16/50\n",
      "339/340 [============================>.] - ETA: 0s - loss: 4.9960 - acc: 0.0602Epoch 00016: val_loss did not improve\n",
      "340/340 [==============================] - 95s 279ms/step - loss: 4.9984 - acc: 0.0600 - val_loss: 21.6189 - val_acc: 0.0133\n",
      "Epoch 17/50\n",
      "339/340 [============================>.] - ETA: 0s - loss: 4.4005 - acc: 0.0838Epoch 00017: val_loss did not improve\n",
      "\n",
      "Epoch 00017: reducing learning rate to 0.000800000037997961.\n",
      "340/340 [==============================] - 95s 280ms/step - loss: 4.4065 - acc: 0.0835 - val_loss: 22.8899 - val_acc: 0.0167\n",
      "Epoch 18/50\n",
      "339/340 [============================>.] - ETA: 0s - loss: 3.6947 - acc: 0.0873Epoch 00018: val_loss improved from 20.18997 to 20.05425, saving model to weights.18-20.05.hdf5\n",
      "340/340 [==============================] - 96s 283ms/step - loss: 3.6952 - acc: 0.0871 - val_loss: 20.0542 - val_acc: 0.0133\n",
      "Epoch 19/50\n",
      "339/340 [============================>.] - ETA: 0s - loss: 4.0768 - acc: 0.0826Epoch 00019: val_loss did not improve\n",
      "340/340 [==============================] - 97s 286ms/step - loss: 4.0863 - acc: 0.0824 - val_loss: 21.6292 - val_acc: 0.0233\n",
      "Epoch 20/50\n",
      "339/340 [============================>.] - ETA: 0s - loss: 3.6778 - acc: 0.1009Epoch 00020: val_loss did not improve\n",
      "340/340 [==============================] - 95s 280ms/step - loss: 3.6815 - acc: 0.1006 - val_loss: 23.3260 - val_acc: 0.0033\n",
      "Epoch 21/50\n",
      "339/340 [============================>.] - ETA: 0s - loss: 3.5258 - acc: 0.1003Epoch 00021: val_loss did not improve\n",
      "340/340 [==============================] - 99s 290ms/step - loss: 3.5312 - acc: 0.1000 - val_loss: 21.3495 - val_acc: 0.0300\n",
      "Epoch 22/50\n",
      "339/340 [============================>.] - ETA: 0s - loss: 4.0815 - acc: 0.0873Epoch 00022: val_loss did not improve\n",
      "340/340 [==============================] - 98s 289ms/step - loss: 4.0736 - acc: 0.0871 - val_loss: 21.1593 - val_acc: 0.0033\n",
      "Epoch 23/50\n",
      "339/340 [============================>.] - ETA: 0s - loss: 4.1084 - acc: 0.0767Epoch 00023: val_loss did not improve\n",
      "340/340 [==============================] - 98s 289ms/step - loss: 4.1054 - acc: 0.0771 - val_loss: 20.5077 - val_acc: 0.0300\n",
      "Epoch 24/50\n",
      "339/340 [============================>.] - ETA: 0s - loss: 3.5703 - acc: 0.1068Epoch 00024: val_loss did not improve\n",
      "340/340 [==============================] - 97s 284ms/step - loss: 3.5738 - acc: 0.1065 - val_loss: 21.6633 - val_acc: 0.0133\n",
      "Epoch 25/50\n",
      "339/340 [============================>.] - ETA: 0s - loss: 3.2541 - acc: 0.0938Epoch 00025: val_loss did not improve\n",
      "340/340 [==============================] - 97s 284ms/step - loss: 3.2523 - acc: 0.0935 - val_loss: 22.2769 - val_acc: 0.0133\n",
      "Epoch 26/50\n",
      "339/340 [============================>.] - ETA: 0s - loss: 3.5146 - acc: 0.1103Epoch 00026: val_loss did not improve\n",
      "340/340 [==============================] - 96s 283ms/step - loss: 3.5103 - acc: 0.1100 - val_loss: 21.3340 - val_acc: 0.0100\n",
      "Epoch 27/50\n",
      "339/340 [============================>.] - ETA: 0s - loss: 3.4569 - acc: 0.0885Epoch 00027: val_loss did not improve\n",
      "340/340 [==============================] - 97s 285ms/step - loss: 3.4599 - acc: 0.0888 - val_loss: 22.2252 - val_acc: 0.0200\n",
      "Epoch 28/50\n",
      "339/340 [============================>.] - ETA: 0s - loss: 3.4749 - acc: 0.0985Epoch 00028: val_loss did not improve\n",
      "340/340 [==============================] - 98s 289ms/step - loss: 3.4703 - acc: 0.0994 - val_loss: 22.4968 - val_acc: 0.0200\n",
      "Epoch 29/50\n",
      "339/340 [============================>.] - ETA: 0s - loss: 3.1168 - acc: 0.1156Epoch 00029: val_loss did not improve\n",
      "340/340 [==============================] - 98s 288ms/step - loss: 3.1153 - acc: 0.1165 - val_loss: 22.5341 - val_acc: 0.0233\n",
      "Epoch 30/50\n",
      "339/340 [============================>.] - ETA: 0s - loss: 3.7434 - acc: 0.0873Epoch 00030: val_loss did not improve\n",
      "340/340 [==============================] - 95s 279ms/step - loss: 3.7490 - acc: 0.0871 - val_loss: 22.0108 - val_acc: 0.0067\n",
      "Epoch 31/50\n",
      "339/340 [============================>.] - ETA: 0s - loss: 3.3120 - acc: 0.1038Epoch 00031: val_loss did not improve\n",
      "340/340 [==============================] - 96s 282ms/step - loss: 3.3110 - acc: 0.1041 - val_loss: 21.5760 - val_acc: 0.0167\n",
      "Epoch 32/50\n",
      "339/340 [============================>.] - ETA: 0s - loss: 3.2984 - acc: 0.0950Epoch 00032: val_loss did not improve\n",
      "\n",
      "Epoch 00032: reducing learning rate to 0.0006400000303983689.\n",
      "340/340 [==============================] - 95s 280ms/step - loss: 3.2958 - acc: 0.0953 - val_loss: 22.3608 - val_acc: 0.0167\n",
      "Epoch 33/50\n",
      "339/340 [============================>.] - ETA: 0s - loss: 2.3093 - acc: 0.1451Epoch 00033: val_loss did not improve\n",
      "340/340 [==============================] - 95s 280ms/step - loss: 2.3084 - acc: 0.1453 - val_loss: 20.9776 - val_acc: 0.0233\n",
      "Epoch 34/50\n",
      "339/340 [============================>.] - ETA: 0s - loss: 2.5221 - acc: 0.1469Epoch 00034: val_loss did not improve\n",
      "340/340 [==============================] - 95s 280ms/step - loss: 2.5205 - acc: 0.1465 - val_loss: 21.8554 - val_acc: 0.0300\n",
      "Epoch 35/50\n",
      "339/340 [============================>.] - ETA: 0s - loss: 2.2205 - acc: 0.1558Epoch 00035: val_loss improved from 20.05425 to 19.93386, saving model to weights.35-19.93.hdf5\n",
      "340/340 [==============================] - 96s 281ms/step - loss: 2.2195 - acc: 0.1553 - val_loss: 19.9339 - val_acc: 0.0167\n",
      "Epoch 36/50\n",
      "339/340 [============================>.] - ETA: 0s - loss: 2.1071 - acc: 0.1510Epoch 00036: val_loss did not improve\n",
      "340/340 [==============================] - 95s 280ms/step - loss: 2.1138 - acc: 0.1506 - val_loss: 21.5870 - val_acc: 0.0133\n",
      "Epoch 37/50\n",
      "339/340 [============================>.] - ETA: 0s - loss: 2.4965 - acc: 0.1422Epoch 00037: val_loss did not improve\n",
      "340/340 [==============================] - 95s 280ms/step - loss: 2.4963 - acc: 0.1418 - val_loss: 22.1657 - val_acc: 0.0133\n",
      "Epoch 38/50\n",
      "339/340 [============================>.] - ETA: 0s - loss: 2.3114 - acc: 0.1558Epoch 00038: val_loss did not improve\n",
      "340/340 [==============================] - 95s 280ms/step - loss: 2.3226 - acc: 0.1553 - val_loss: 20.9729 - val_acc: 0.0233\n",
      "Epoch 39/50\n",
      "339/340 [============================>.] - ETA: 0s - loss: 2.4413 - acc: 0.1304Epoch 00039: val_loss did not improve\n",
      "340/340 [==============================] - 95s 280ms/step - loss: 2.4447 - acc: 0.1300 - val_loss: 22.7410 - val_acc: 0.0133\n",
      "Epoch 40/50\n",
      "339/340 [============================>.] - ETA: 0s - loss: 2.4356 - acc: 0.1605Epoch 00040: val_loss did not improve\n",
      "340/340 [==============================] - 95s 280ms/step - loss: 2.4356 - acc: 0.1606 - val_loss: 20.5367 - val_acc: 0.0233\n",
      "Epoch 41/50\n",
      "339/340 [============================>.] - ETA: 0s - loss: 2.2381 - acc: 0.1640Epoch 00041: val_loss did not improve\n",
      "340/340 [==============================] - 95s 280ms/step - loss: 2.2376 - acc: 0.1635 - val_loss: 21.3070 - val_acc: 0.0100\n",
      "Epoch 42/50\n",
      "339/340 [============================>.] - ETA: 0s - loss: 2.6816 - acc: 0.1310Epoch 00042: val_loss did not improve\n",
      "340/340 [==============================] - 95s 281ms/step - loss: 2.6802 - acc: 0.1312 - val_loss: 23.0127 - val_acc: 0.0167\n",
      "Epoch 43/50\n",
      "339/340 [============================>.] - ETA: 0s - loss: 2.4164 - acc: 0.1463Epoch 00043: val_loss did not improve\n",
      "340/340 [==============================] - 95s 279ms/step - loss: 2.4156 - acc: 0.1465 - val_loss: 22.4820 - val_acc: 0.0133\n",
      "Epoch 44/50\n",
      "339/340 [============================>.] - ETA: 0s - loss: 2.2137 - acc: 0.1546Epoch 00044: val_loss did not improve\n",
      "340/340 [==============================] - 95s 279ms/step - loss: 2.2102 - acc: 0.1547 - val_loss: 21.8291 - val_acc: 0.0100\n",
      "Epoch 45/50\n",
      "339/340 [============================>.] - ETA: 0s - loss: 2.2823 - acc: 0.1416Epoch 00045: val_loss did not improve\n",
      "340/340 [==============================] - 97s 286ms/step - loss: 2.2823 - acc: 0.1418 - val_loss: 22.8604 - val_acc: 0.0067\n",
      "Epoch 46/50\n",
      "339/340 [============================>.] - ETA: 0s - loss: 2.1567 - acc: 0.1693Epoch 00046: val_loss did not improve\n",
      "340/340 [==============================] - 99s 291ms/step - loss: 2.1561 - acc: 0.1694 - val_loss: 21.0886 - val_acc: 0.0067\n",
      "Epoch 47/50\n",
      "339/340 [============================>.] - ETA: 0s - loss: 2.1369 - acc: 0.1670Epoch 00047: val_loss did not improve\n",
      "\n",
      "Epoch 00047: reducing learning rate to 0.0005120000336319208.\n",
      "340/340 [==============================] - 99s 292ms/step - loss: 2.1354 - acc: 0.1671 - val_loss: 21.2183 - val_acc: 0.0300\n",
      "Epoch 48/50\n",
      "339/340 [============================>.] - ETA: 0s - loss: 1.8144 - acc: 0.1953Epoch 00048: val_loss did not improve\n",
      "340/340 [==============================] - 97s 285ms/step - loss: 1.8169 - acc: 0.1953 - val_loss: 19.9578 - val_acc: 0.0200\n",
      "Epoch 49/50\n",
      "339/340 [============================>.] - ETA: 0s - loss: 2.1237 - acc: 0.1552Epoch 00049: val_loss did not improve\n",
      "340/340 [==============================] - 101s 297ms/step - loss: 2.1303 - acc: 0.1553 - val_loss: 22.1641 - val_acc: 0.0200\n",
      "Epoch 50/50\n",
      "339/340 [============================>.] - ETA: 0s - loss: 1.6421 - acc: 0.2041Epoch 00050: val_loss did not improve\n",
      "340/340 [==============================] - 98s 287ms/step - loss: 1.6424 - acc: 0.2035 - val_loss: 20.8329 - val_acc: 0.0200\n"
     ]
    },
    {
     "data": {
      "text/plain": [
       "<keras.callbacks.History at 0x7f5c361cdeb8>"
      ]
     },
     "execution_count": 12,
     "metadata": {},
     "output_type": "execute_result"
    }
   ],
   "source": [
    "# fit data\n",
    "model.fit_generator(\n",
    "    train_gen_flow,\n",
    "    steps_per_epoch=340,\n",
    "    epochs=50,\n",
    "    validation_data=val_gen_flow,\n",
    "    validation_steps=60,\n",
    "    callbacks=[save_best, reduceLROnPlat]\n",
    ")"
   ]
  },
  {
   "cell_type": "code",
   "execution_count": 13,
   "metadata": {
    "collapsed": true
   },
   "outputs": [],
   "source": [
    "# model.save_weights('bone_age_weights_20_ep.h5')"
   ]
  },
  {
   "cell_type": "code",
   "execution_count": 14,
   "metadata": {},
   "outputs": [
    {
     "data": {
      "image/png": "[encoded data removed]",
      "text/plain": [
       "<matplotlib.figure.Figure at 0x7f5b629b4ef0>"
      ]
     },
     "metadata": {},
     "output_type": "display_data"
    }
   ],
   "source": [
    "import matplotlib.pyplot as plt\n",
    "\n",
    "plt.imshow(image_data[0])\n",
    "plt.show()"
   ]
  },
  {
   "cell_type": "code",
   "execution_count": 15,
   "metadata": {},
   "outputs": [
    {
     "data": {
      "text/plain": [
       "(1,)"
      ]
     },
     "execution_count": 15,
     "metadata": {},
     "output_type": "execute_result"
    }
   ],
   "source": [
    "np.array([0]).shape"
   ]
  },
  {
   "cell_type": "code",
   "execution_count": 16,
   "metadata": {
    "collapsed": true
   },
   "outputs": [],
   "source": [
    "output = model.predict([image_data[:5], gender_data[:5]])"
   ]
  },
  {
   "cell_type": "code",
   "execution_count": 17,
   "metadata": {},
   "outputs": [
    {
     "data": {
      "text/plain": [
       "array([[  303.13580322],\n",
       "       [  856.51965332],\n",
       "       [ 1291.22424316],\n",
       "       [ 1216.98962402],\n",
       "       [ 2068.30395508]], dtype=float32)"
      ]
     },
     "execution_count": 17,
     "metadata": {},
     "output_type": "execute_result"
    }
   ],
   "source": [
    "output"
   ]
  }
 ],
 "metadata": {
  "kernelspec": {
   "display_name": "Python 3",
   "language": "python",
   "name": "python3"
  },
  "language_info": {
   "codemirror_mode": {
    "name": "ipython",
    "version": 3
   },
   "file_extension": ".py",
   "mimetype": "text/x-python",
   "name": "python",
   "nbconvert_exporter": "python",
   "pygments_lexer": "ipython3",
   "version": "3.6.1"
  }
 },
 "nbformat": 4,
 "nbformat_minor": 2
}
